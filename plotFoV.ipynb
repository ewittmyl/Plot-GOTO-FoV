{
 "cells": [
  {
   "cell_type": "code",
   "execution_count": 1,
   "metadata": {},
   "outputs": [],
   "source": [
    "from gototile.gaussian import gaussian_skymap\n",
    "import healpy\n",
    "from matplotlib import pyplot as plt\n",
    "from matplotlib.figure import Figure\n",
    "import cartopy.crs as ccrs\n",
    "import cartopy\n",
    "import gototile.skymaptools as smt\n",
    "from matplotlib.colors import colorConverter\n",
    "import numpy as np\n",
    "import pandas as pd"
   ]
  },
  {
   "cell_type": "code",
   "execution_count": 13,
   "metadata": {},
   "outputs": [],
   "source": [
    "def plot_skymap(trigno, ra, dec, radius, nside=64):\n",
    "        %matplotlib qt\n",
    "        \"\"\"\n",
    "        Plot the coverage tiling region for Fermi trigger \n",
    "        ----------\n",
    "        trigno : integer\n",
    "            Fermi GRB trigger number\n",
    "        ra : float\n",
    "            ra in decimal degrees\n",
    "        dec : float\n",
    "            declination in decimal degrees\n",
    "        radius : float\n",
    "            68% containment radius in decimal degrees\n",
    "        nside : int, optional\n",
    "            healpix nside parameter (must be a power of 2)\n",
    "            default is 64\n",
    "\n",
    "        Returns\n",
    "        -------\n",
    "        `~gototile.skymap.SkyMap``\n",
    "            SkyMap object.\n",
    "        \"\"\"\n",
    "        hdulist = gaussian_skymap(ra, dec, radius, nside)\n",
    "        info = healpy.read_map(hdulist, h=True, field=None,\n",
    "                               verbose=False, nest=None)\n",
    "        skymap = info[0]\n",
    "        \n",
    "        \"\"\"\n",
    "        Plotting the gaussian skymap for given RA, Dec, Error\n",
    "        \"\"\"\n",
    "        \n",
    "        figure = plt.figure(figsize=(15, 15))\n",
    "        axes = figure.add_subplot(1, 1, 1, projection=ccrs.Mollweide())\n",
    "        geodetic = ccrs.Geodetic()\n",
    "        npix = healpy.nside2npix(nside)\n",
    "        ipix = np.arange(npix)\n",
    "        thetas, phis = healpy.pix2ang(nside, ipix)\n",
    "        ras = np.rad2deg(phis)%360\n",
    "        decs = np.rad2deg(np.pi/2 - thetas%np.pi)\n",
    "        axes.scatter(ras, decs, s=20, c=skymap,cmap='BuGn', alpha=1, \n",
    "                     linewidths=0, zorder=1,transform=geodetic)\n",
    "        \n",
    "        \"\"\"\n",
    "        Overplotting the FoV of GOTO\n",
    "        \"\"\"\n",
    "        col = [\"id\",\"runid\",\"fov\",\"target\"]\n",
    "        fov = pd.read_table(\"Fermi_fov.txt\", header=None, skiprows=2, sep=\"|\", names=col)\n",
    "        fov.dropna(inplace=True)\n",
    "        fov = fov[fov[\"target\"].str.contains(\"Fermi_\"+trigno)]\n",
    "        for fv in fov[\"fov\"].values:\n",
    "            corners = fv.split(\"),(\")\n",
    "            c = []\n",
    "            c.append(corners[0].split(\"(\")[-1].split(\",\"))\n",
    "            c.append(corners[1].split(\",\"))\n",
    "            c.append(corners[2].split(\",\"))\n",
    "            c.append(corners[3].split(\")\")[0].split(\",\"))\n",
    "            for i in np.arange(4):\n",
    "                c[i] = [float(k) for k in c[i]]\n",
    "            tilelist = [list(i) for i in zip(*c)]\n",
    "            ra, dec = smt.getshape(tilelist, steps=10)\n",
    "            acolor = colorConverter.to_rgba('#C44677', alpha=0)\n",
    "            axes.fill(ra, dec, fill=True, facecolor=acolor,\n",
    "                      linewidth=1, linestyle='solid',\n",
    "                      edgecolor='black', transform=geodetic)"
   ]
  },
  {
   "cell_type": "code",
   "execution_count": 14,
   "metadata": {},
   "outputs": [],
   "source": [
    "plot_skymap('566755024', 330.56, 29.9, 4.123)"
   ]
  },
  {
   "cell_type": "code",
   "execution_count": null,
   "metadata": {},
   "outputs": [],
   "source": []
  }
 ],
 "metadata": {
  "kernelspec": {
   "display_name": "Python 3",
   "language": "python",
   "name": "python3"
  },
  "language_info": {
   "codemirror_mode": {
    "name": "ipython",
    "version": 3
   },
   "file_extension": ".py",
   "mimetype": "text/x-python",
   "name": "python",
   "nbconvert_exporter": "python",
   "pygments_lexer": "ipython3",
   "version": "3.6.6"
  }
 },
 "nbformat": 4,
 "nbformat_minor": 2
}
